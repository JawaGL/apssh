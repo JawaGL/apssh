{
 "cells": [
  {
   "cell_type": "code",
   "execution_count": 1,
   "metadata": {
    "collapsed": true
   },
   "outputs": [],
   "source": [
    "import asyncio"
   ]
  },
  {
   "cell_type": "markdown",
   "metadata": {},
   "source": [
    "# Orchestration engine"
   ]
  },
  {
   "cell_type": "markdown",
   "metadata": {},
   "source": [
    "This tool is currently hosted under the `apssh` library but will shortly become a standalone library named `asynciojobs`"
   ]
  },
  {
   "cell_type": "markdown",
   "metadata": {},
   "source": [
    "The main and single purpose of this library is to allow for the static description of a scenario involving `asyncio`-compliant jobs, that have dependencies in the sense that a given job cannot start until its requirements have not completed.\n",
    "\n",
    "So in a nutshell you would:\n",
    "* define a set of `Job` objects, and their `requires` relationship\n",
    "* and run this logic through an `Engine` object, that will orchestrate the whole secenario \n",
    "\n",
    "A job object can be created:\n",
    "* either as a `Job` instance from a regular asyncio coroutine\n",
    "* or by specializing the `AbstractJob` class and defining its `co_run()` method"
   ]
  },
  {
   "cell_type": "markdown",
   "metadata": {},
   "source": [
    "# Examples"
   ]
  },
  {
   "cell_type": "markdown",
   "metadata": {},
   "source": [
    "Let's consider a simple coroutine for the sake of illustration"
   ]
  },
  {
   "cell_type": "code",
   "execution_count": 2,
   "metadata": {
    "collapsed": false
   },
   "outputs": [],
   "source": [
    "import time\n",
    "\n",
    "async def mycoro(timeout):\n",
    "    print(\"-> mycoro({})\".format(timeout))\n",
    "    await asyncio.sleep(timeout)\n",
    "    print(\"<- mycoro({})\".format(timeout))\n",
    "    # return something easy to recognize: the number of milliseconds\n",
    "    return 1000 * timeout"
   ]
  },
  {
   "cell_type": "markdown",
   "metadata": {},
   "source": [
    "### example A"
   ]
  },
  {
   "cell_type": "markdown",
   "metadata": {},
   "source": [
    "Running a series of coroutines in parallel - a la `gather` - can be done like this"
   ]
  },
  {
   "cell_type": "code",
   "execution_count": 3,
   "metadata": {
    "collapsed": true
   },
   "outputs": [],
   "source": [
    "from job import Job\n",
    "from engine import Engine"
   ]
  },
  {
   "cell_type": "code",
   "execution_count": 4,
   "metadata": {
    "collapsed": false
   },
   "outputs": [],
   "source": [
    "a1, a2, a3 = Job(mycoro(0.1)), Job(mycoro(0.2)), Job(mycoro(0.25)),"
   ]
  },
  {
   "cell_type": "markdown",
   "metadata": {},
   "source": [
    "What we're saying here is that we have three jobs, that have no relationships between them. \n",
    "\n",
    "So when we run them, we would start all 3 coroutines at once, and return once they are all done:"
   ]
  },
  {
   "cell_type": "code",
   "execution_count": 5,
   "metadata": {
    "collapsed": false
   },
   "outputs": [
    {
     "name": "stdout",
     "output_type": "stream",
     "text": [
      "-> mycoro(0.1)\n",
      "-> mycoro(0.25)\n",
      "-> mycoro(0.2)\n",
      "<- mycoro(0.1)\n",
      "<- mycoro(0.2)\n",
      "<- mycoro(0.25)\n"
     ]
    },
    {
     "data": {
      "text/plain": [
       "True"
      ]
     },
     "execution_count": 5,
     "metadata": {},
     "output_type": "execute_result"
    }
   ],
   "source": [
    "ea = Engine(a1, a2, a3)\n",
    "ea.orchestrate()"
   ]
  },
  {
   "cell_type": "markdown",
   "metadata": {},
   "source": [
    "### example B : add requirements (dependencies)"
   ]
  },
  {
   "cell_type": "markdown",
   "metadata": {},
   "source": [
    "Now we can add *requirements* dependencies between jobs, like in the following example. We take this chance to show that jobs can be tagged with a label, which can turn out te be convenient somtimes."
   ]
  },
  {
   "cell_type": "code",
   "execution_count": 6,
   "metadata": {
    "collapsed": false
   },
   "outputs": [],
   "source": [
    "b1, b2, b3 = (Job(mycoro(0.1), label=\"b1\"),\n",
    "              Job(mycoro(0.2), label=\"b2\"),\n",
    "              Job(mycoro(0.25)))\n",
    "\n",
    "b2.requires(b1)"
   ]
  },
  {
   "cell_type": "markdown",
   "metadata": {},
   "source": [
    "Now `b3` needs `b1` to be finished before it can start. And so only the 2 first coroutines get started at the beginning, and only once b1 has finished does b3 start."
   ]
  },
  {
   "cell_type": "code",
   "execution_count": 7,
   "metadata": {
    "collapsed": false
   },
   "outputs": [
    {
     "name": "stdout",
     "output_type": "stream",
     "text": [
      "-> mycoro(0.25)\n",
      "-> mycoro(0.1)\n",
      "<- mycoro(0.1)\n",
      "-> mycoro(0.2)\n",
      "<- mycoro(0.25)\n",
      "<- mycoro(0.2)\n"
     ]
    },
    {
     "data": {
      "text/plain": [
       "True"
      ]
     },
     "execution_count": 7,
     "metadata": {},
     "output_type": "execute_result"
    }
   ],
   "source": [
    "# with this setup we are certain that b3 ends in the middle of b2\n",
    "eb = Engine(b1, b2, b3)\n",
    "eb.orchestrate()"
   ]
  },
  {
   "cell_type": "markdown",
   "metadata": {},
   "source": [
    "### inspect results\n",
    "\n",
    "Before we see more examples, let's see how details for each `Job` can be retrieved once `orchestrate` finishes:"
   ]
  },
  {
   "cell_type": "code",
   "execution_count": 8,
   "metadata": {
    "collapsed": false
   },
   "outputs": [
    {
     "name": "stdout",
     "output_type": "stream",
     "text": [
      "<Job `b2' finished -> 200.0 - requires:{[b1]}>\n",
      "<Job `NOLABEL' finished -> 250.0>\n",
      "<Job `b1' finished -> 100.0 - allows: {[b2]}>\n"
     ]
    }
   ],
   "source": [
    "# a shorter equivalent form would be \n",
    "# e2.list()\n",
    " \n",
    "for job in eb.jobs:\n",
    "    print(job)"
   ]
  },
  {
   "cell_type": "code",
   "execution_count": 9,
   "metadata": {
    "collapsed": false
   },
   "outputs": [
    {
     "name": "stdout",
     "output_type": "stream",
     "text": [
      "True\n"
     ]
    }
   ],
   "source": [
    "print(b1.is_done())"
   ]
  },
  {
   "cell_type": "code",
   "execution_count": 10,
   "metadata": {
    "collapsed": false
   },
   "outputs": [
    {
     "name": "stdout",
     "output_type": "stream",
     "text": [
      "250.0\n"
     ]
    }
   ],
   "source": [
    "print(b3.result())"
   ]
  },
  {
   "cell_type": "markdown",
   "metadata": {},
   "source": [
    "### example C : infinite loops, or coroutines that don't return"
   ]
  },
  {
   "cell_type": "markdown",
   "metadata": {},
   "source": [
    "Sometimes it is useful to deal with a endless loop; for example if we want to separate completely actions and printing, we can use an `asyncio.Queue` to implement a simple message bus as follows"
   ]
  },
  {
   "cell_type": "code",
   "execution_count": 11,
   "metadata": {
    "collapsed": true
   },
   "outputs": [],
   "source": [
    "message_bus = asyncio.Queue()\n",
    "\n",
    "async def monitor_loop(bus):\n",
    "    while True:\n",
    "        message = await bus.get()\n",
    "        print(\"BUS: {}\".format(message))"
   ]
  },
  {
   "cell_type": "markdown",
   "metadata": {},
   "source": [
    "Now we need a modified version of the previous coroutine, that interacts with this message bus instead of printing anything itself&nbsp;:"
   ]
  },
  {
   "cell_type": "code",
   "execution_count": 12,
   "metadata": {
    "collapsed": true
   },
   "outputs": [],
   "source": [
    "async def mycoro_bus(timeout, bus):\n",
    "    await bus.put(\"-> mycoro({})\".format(timeout))\n",
    "    await asyncio.sleep(timeout)\n",
    "    await bus.put(\"<- mycoro({})\".format(timeout))\n",
    "    # return something easy to recognize\n",
    "    return 10 * timeout"
   ]
  },
  {
   "cell_type": "markdown",
   "metadata": {},
   "source": [
    "We can replay the prevous scenario, adding the monitoring loop as a separate job; however we need to declare this job with `forever=True` so that we know when the bulk of the scenario is completed, since the monitoring loop will never return."
   ]
  },
  {
   "cell_type": "code",
   "execution_count": 13,
   "metadata": {
    "collapsed": false
   },
   "outputs": [
    {
     "name": "stdout",
     "output_type": "stream",
     "text": [
      "BUS: -> mycoro(0.2)\n",
      "BUS: -> mycoro(0.4)\n",
      "BUS: <- mycoro(0.2)\n",
      "BUS: -> mycoro(0.3)\n",
      "BUS: <- mycoro(0.4)\n",
      "BUS: <- mycoro(0.3)\n"
     ]
    },
    {
     "data": {
      "text/plain": [
       "True"
      ]
     },
     "execution_count": 13,
     "metadata": {},
     "output_type": "execute_result"
    }
   ],
   "source": [
    "c1, c2, c3, c4 = (Job(mycoro_bus(0.2, message_bus), label=\"c1\"),\n",
    "                  Job(mycoro_bus(0.4, message_bus), label=\"c2\"), \n",
    "                  Job(mycoro_bus(0.3, message_bus), label=\"c3\"),\n",
    "                  Job(monitor_loop(message_bus), forever=True, label=\"monitor\"))\n",
    "\n",
    "c3.requires(c1)\n",
    "\n",
    "ec = Engine(c1, c2, c3, c4)\n",
    "ec.orchestrate()"
   ]
  },
  {
   "cell_type": "markdown",
   "metadata": {},
   "source": [
    "Note that `orchestrate` always terminates as soon as all the non-`forever` jobs are complete. The `forever` jobs, on the other hand, get cancelled, so of course no return value is available at the end of the scenario&nbsp;:"
   ]
  },
  {
   "cell_type": "code",
   "execution_count": 14,
   "metadata": {
    "collapsed": false
   },
   "outputs": [
    {
     "name": "stdout",
     "output_type": "stream",
     "text": [
      "0 <Job `c1' finished -> 2.0 - allows: {[c3]}>\n",
      "1 <Job `monitor'[∞] cancelled>\n",
      "2 <Job `c2' finished -> 4.0>\n",
      "3 <Job `c3' finished -> 3.0 - requires:{[c1]}>\n"
     ]
    }
   ],
   "source": [
    "ec.list()"
   ]
  },
  {
   "cell_type": "markdown",
   "metadata": {},
   "source": [
    "### example D : specifying a global timeout"
   ]
  },
  {
   "cell_type": "markdown",
   "metadata": {},
   "source": [
    "`orchestrate` accepts a `timeout` argument in seconds. When provided, `orchestrate` will ensure its global duration does not exceed this value, and will return `False` if the timeout triggers.\n",
    "\n",
    "Of course this can be used with any number of jobs and dependencies, but for the sake of simplicity let us see this in action with just one job that loops forever"
   ]
  },
  {
   "cell_type": "code",
   "execution_count": 15,
   "metadata": {
    "collapsed": false
   },
   "outputs": [
    {
     "name": "stdout",
     "output_type": "stream",
     "text": [
      "17:12:28: forever 0\n",
      "17:12:28: forever 1\n",
      "17:12:28: forever 2\n"
     ]
    },
    {
     "data": {
      "text/plain": [
       "False"
      ]
     },
     "execution_count": 15,
     "metadata": {},
     "output_type": "execute_result"
    }
   ],
   "source": [
    "async def forever():\n",
    "    for i in range(100000):\n",
    "        print(\"{}: forever {}\".format(time.strftime(\"%H:%M:%S\"), i))\n",
    "        await asyncio.sleep(.1)\n",
    "        \n",
    "j = Job(forever(), forever=True)\n",
    "e = Engine(j)\n",
    "e.orchestrate(timeout=0.25)"
   ]
  },
  {
   "cell_type": "markdown",
   "metadata": {},
   "source": [
    "As you can see the result of `orchestrate` in this case is `False`, since not all jobs have completed. Apart from that the jobs is now in this state:"
   ]
  },
  {
   "cell_type": "code",
   "execution_count": 16,
   "metadata": {
    "collapsed": false
   },
   "outputs": [
    {
     "data": {
      "text/plain": [
       "<Job `NOLABEL'[∞] cancelled>"
      ]
     },
     "execution_count": 16,
     "metadata": {},
     "output_type": "execute_result"
    }
   ],
   "source": [
    "j"
   ]
  },
  {
   "cell_type": "markdown",
   "metadata": {},
   "source": [
    "### handling exceptions"
   ]
  },
  {
   "cell_type": "markdown",
   "metadata": {
    "collapsed": true
   },
   "source": [
    "A job instance can be **critical** or not; what this means is as follows\n",
    "\n",
    " * if a critical job raises an exception, the whole engine aborts immediately and returns False\n",
    " * if a non-critical job raises an exception, the whole engine proceeds regardless\n",
    " \n",
    "In both cases the exception can be retrieved in the corresponding Job object with `raised_exception()`"
   ]
  },
  {
   "cell_type": "markdown",
   "metadata": {},
   "source": [
    "For convenience, the **critical** property can be set either at the `Job` or at the `Engine` level. Of course the former takes precedence if set. The default for an engine object is `critical=False`. Let us see this below."
   ]
  },
  {
   "cell_type": "markdown",
   "metadata": {},
   "source": [
    "### Example E : non critical jobs"
   ]
  },
  {
   "cell_type": "code",
   "execution_count": 17,
   "metadata": {
    "collapsed": true
   },
   "outputs": [],
   "source": [
    "async def boom(n):\n",
    "    await asyncio.sleep(n)\n",
    "    raise Exception(\"boom after {}s\".format(n))"
   ]
  },
  {
   "cell_type": "code",
   "execution_count": 18,
   "metadata": {
    "collapsed": false
   },
   "outputs": [
    {
     "name": "stdout",
     "output_type": "stream",
     "text": [
      "-> mycoro(0.2)\n",
      "<- mycoro(0.2)\n",
      "-> mycoro(0.3)\n",
      "<- mycoro(0.3)\n",
      "orch: True\n",
      "0 <Job `NOLABEL' finished -> 300.0 - requires:{[boom]}>\n",
      "1 <Job `boom' finished -> None !!Exception:boom after 0.2s!! - requires:{[NOLABEL]} - allows: {[NOLABEL]}>\n",
      "2 <Job `NOLABEL' finished -> 200.0 - allows: {[boom]}>\n"
     ]
    }
   ],
   "source": [
    "# by default everything is non critical\n",
    "e1 = Job(mycoro(0.2))\n",
    "e2 = Job(boom(0.2), label=\"boom\")\n",
    "e3 = Job(mycoro(0.3))\n",
    "e2.requires(e1)\n",
    "e3.requires(e2)\n",
    "\n",
    "e = Engine(e1, e2, e3)\n",
    "print(\"orch:\", e.orchestrate())\n",
    "e.list()"
   ]
  },
  {
   "cell_type": "markdown",
   "metadata": {},
   "source": [
    "### Example F : critical jobs"
   ]
  },
  {
   "cell_type": "code",
   "execution_count": 19,
   "metadata": {
    "collapsed": false
   },
   "outputs": [
    {
     "name": "stdout",
     "output_type": "stream",
     "text": [
      "-> mycoro(0.2)\n",
      "<- mycoro(0.2)\n",
      "orchestrate: False\n",
      "0 <Job `NOLABEL' finished -> 200.0 - allows: {[boom]}>\n",
      "1 <Job `boom' finished -> None !!Exception:boom after 0.2s!! - requires:{[NOLABEL]} - allows: {[NOLABEL]}>\n",
      "2 <Job `NOLABEL' UNSCHED - requires:{[boom]}>\n"
     ]
    }
   ],
   "source": [
    "# to make the boom job critical we can either set that on the job or on the engine object\n",
    "e1 = Job(mycoro(0.2))\n",
    "e2 = Job(boom(0.2), label=\"boom\", critical=True)\n",
    "e3 = Job(mycoro(0.3))\n",
    "e2.requires(e1)\n",
    "e3.requires(e2)\n",
    "\n",
    "e = Engine(e1, e2, e3)\n",
    "print(\"orchestrate:\", e.orchestrate())\n",
    "e.list()"
   ]
  },
  {
   "cell_type": "markdown",
   "metadata": {},
   "source": [
    "# More"
   ]
  },
  {
   "cell_type": "markdown",
   "metadata": {},
   "source": [
    "### `co_orchestrate` \n",
    "\n",
    "`orchestrate` is a regular `def` function (i.e. not an `async def`), but in fact just a wrapper around the native coroutine called `co_orchestrate`.\n",
    "\n",
    "    def orchestrate(self, loop=None, *args, **kwds):\n",
    "        if loop is None:\n",
    "            loop = asyncio.get_event_loop()\n",
    "        return loop.run_until_complete(self.co_orchestrate(loop=loop, *args, **kwds))\n",
    "\n"
   ]
  },
  {
   "cell_type": "markdown",
   "metadata": {},
   "source": [
    "### `rain_check`\n",
    "\n",
    "`rain_check` will check for cycles in the requirements graph. It returns a boolean. It's a good idea to call it before running an orchestration."
   ]
  },
  {
   "cell_type": "markdown",
   "metadata": {},
   "source": [
    "### `sanitize`\n",
    "\n",
    "In some cases like esp. test scenarios, it can be helpful to add requirements to jobs that are not in the engine. The `sanitize` method removes such extra requirements, and unless you are certain it is not your case, it might be a good idea to call it explcitly before an orchestration."
   ]
  },
  {
   "cell_type": "markdown",
   "metadata": {},
   "source": [
    "### `co_shutdown`\n",
    "\n",
    "Before returning, `orchestrate` sends the `co_shutdown()` method on all jobs. The default behaviour - in the `Job` class - is to do nothing, but this can be redefined when relevant. Typically, an implementation of an `SshJob` will allow for a given SSH connection to be shared amongs several `SshJob` instances, and so `co_shutdown()` may be used to  close the underlying SSH connections at the end of the scenario."
   ]
  },
  {
   "cell_type": "markdown",
   "metadata": {},
   "source": [
    "### customizing the `Job` class\n",
    "\n",
    "`Job` actually is a specializtion of `AbstractJob`, and the specification is that the `co_run()` method should denote a coroutine itself, and that is what is triggered by `Engine` for running said job.\n",
    "\n",
    "You can define your own `Job` class by specializing `job.AbstractJob` - more on this later, we'll define some predefined jobs, in particular for interacting through ssh, and possibly many others."
   ]
  },
  {
   "cell_type": "markdown",
   "metadata": {},
   "source": [
    "# TODO\n",
    "\n",
    "## naming & packaging\n",
    "\n",
    "* do we want to rename engine into scenario ?\n",
    "* package a separate library `aiorch` - would make sense to at least take the name in pypi\n",
    "\n",
    "## termination and re-run\n",
    "\n",
    "1. provide a means to tidy up jobs once the engine has run out. Typically we would have several jobs using the same ssh connection, and these need to be closed at some point. Something like `Engine.shutdown` sending `Job.co_shutdown()`, or similar...\n",
    "\n",
    " * Would it work to just send e.g. `co_shutdown()` on all jobs ? \n",
    " \n",
    "1. related: for the tests at least, and maybe also in practical life, if we create an engine that does not pass  `rain_check`, and so don't run orchestrate, then we'd need a means to garbage collect the pending coroutines\n",
    "\n",
    "1. also related: there is an intention in the code that one engine object can be run several times. Looks like this won't work as expected anymore, and it can be an issue in the context of reproducible research: we may/will want to run the same scenario object several times, don't we ? \n",
    "\n",
    " * This maybe is not too serious; we may get away with that by just doing\n",
    " \n",
    "instead of\n",
    "\n",
    "```\n",
    "e = Engine(Job(coro(1)), Job(coro(2))\n",
    "e.orchestrate()\n",
    "# won't work again because the coroutines have dried out\n",
    "e.orchestrate()\n",
    "```\n",
    "\n",
    "do this\n",
    "\n",
    "```\n",
    "def run():\n",
    "   e = Engine(Job(coro(1)), Job(coro(2))\n",
    "   e.orchestrate()\n",
    "\n",
    "# this of course works\n",
    "run()\n",
    "run()\n",
    "\n",
    "```\n",
    " \n",
    "\n",
    "## monitoring \n",
    "* come up with some basic (curses ?) monitor to show what's going on; what I have in mind is something like rhubarbe load where all jobs would be displayed, one line each, and their status could be shown so that one can get a sense of what is going on\n",
    "* one way to look at this is to have the main Engine class send itself a `tick()` method, and then specialize `Engine` as `EngineCurses` that would actually do things on such events.\n",
    "* ***or*** this gets delegated on a `message_queue` object. **Review the rhubarbe code on this aspect**.\n",
    "\n",
    "## convenience\n",
    "* ~~do we want to support requires by labels ?~~ : NO\n",
    "\n",
    "* **BUT** it would make sense to allow `requires` to be passed at job creation time ?\n",
    "\n",
    "```\n",
    "a1 = J(mycoro(1), label=\"a1\")\n",
    "a2 = J(mycoro(2), requires = [a1], label=\"a2\")\n",
    "a3 = J(mycoro(3), requires = [a1, a2])\n",
    "```\n"
   ]
  },
  {
   "cell_type": "markdown",
   "metadata": {},
   "source": [
    "# Historical notes\n",
    "\n",
    "The purpose is to come up with an as-simple-as-it-gets replacement for our toolset for orchestrating network experiments. In its simplest form, it can be described as an ***orchestration tool for `asyncio`-based libraries***, with the following objectives\n",
    "\n",
    "* we ***primarily*** target ***ssh-based*** kind of interactions with nodes; typically we need to control any number of nodes reachable through ssh, ranging from hundreds of them in the context of PlanetLab, down to tens or a handful in the context of R2lab\n",
    "* previous tools like in particular [NEPI](http://nepi.inria.fr) came with a very ambitious goal of being extremely generic, to the cost of achieving poor to very poor performance, in particular in the specific niche of ssh-addressable nodes; in contrast, here we want to achieve optimal performance, to the possible cost of generality.\n",
    "\n",
    "So in order to take these objectives into account:\n",
    "\n",
    "* we want to have full control on ssh connections, and specifically to open only one such connection per node for the whole duration of the exp.\n",
    "* `asyncio` allows us to be totally single-threaded, so no multi-threading is needed, and thus no critical section nonsense\n",
    "* similarly we want to be able to rely on the internal ssh protocol to be notified when a remote command is done, ***instead of having to cyclically*** check for its status, which comes at an incredibly high cost\n",
    "\n",
    "It appears that the only critical feature required here as compared to what `asyncio` offers out of the box, is to handle dependencies between atomic jobs. It the main and only purpose of this micro-tool, to allow an experimenter to describe its experiment as a logically ordered set of jobs. "
   ]
  },
  {
   "cell_type": "markdown",
   "metadata": {},
   "source": [
    "As I hope it will turn out, all this applies in a straightforward way to both\n",
    "\n",
    "* simple ssh-derivatives; at this point, it looks like we essentially need 2 first-class citizens here:\n",
    "  * running commands native to the remote system, or \n",
    "  * pushing a local script remotely and run it\n",
    "\n",
    "* but in fact the same applies as-is to any kind of coroutine, that could either\n",
    "  * have a local purpose, like dealing with a local software bus for exchanging messages between jobs\n",
    "  * or at the other extreme of the spectrum, interact with network resource using technologies totally different from `ssh`, provided that they rely on `asyncio`-aware libraries. Virtually everything is available as `asyncio`-compliant these days, from `http` to `telnet` - already used e.g. in `rhubarbe` - to, I am sure, `xmlrpc` or other more modern variants based on JSON, as well as XMPP-based stuff, if need be. "
   ]
  }
 ],
 "metadata": {
  "kernelspec": {
   "display_name": "Python 3",
   "language": "python",
   "name": "python3"
  },
  "language_info": {
   "codemirror_mode": {
    "name": "ipython",
    "version": 3
   },
   "file_extension": ".py",
   "mimetype": "text/x-python",
   "name": "python",
   "nbconvert_exporter": "python",
   "pygments_lexer": "ipython3",
   "version": "3.5.1"
  }
 },
 "nbformat": 4,
 "nbformat_minor": 1
}
