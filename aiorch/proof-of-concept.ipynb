{
 "cells": [
  {
   "cell_type": "code",
   "execution_count": 1,
   "metadata": {
    "collapsed": false
   },
   "outputs": [],
   "source": [
    "import asyncio"
   ]
  },
  {
   "cell_type": "code",
   "execution_count": 2,
   "metadata": {
    "collapsed": false
   },
   "outputs": [
    {
     "name": "stdout",
     "output_type": "stream",
     "text": [
      "sys.version_info(major=3, minor=5, micro=1, releaselevel='final', serial=0)\n"
     ]
    }
   ],
   "source": [
    "from sys import version_info as pyversion\n",
    "print(pyversion)\n",
    "if not (pyversion.major == 3 and pyversion.minor >= 5):\n",
    "    print(\"python 3.5 is required\")\n",
    "    exit(1)"
   ]
  },
  {
   "cell_type": "markdown",
   "metadata": {},
   "source": [
    "# async control flow engine - proof of concept"
   ]
  },
  {
   "cell_type": "markdown",
   "metadata": {},
   "source": [
    "### Playing with the following idea\n",
    "\n",
    "We would like to describe a set of asynchroneous jobs, together with their\n",
    "dependencies - a la makefile.\n",
    "\n",
    "It does not look that this feature is supported by the native\n",
    "asyncio tools.\n",
    "\n",
    "So as an input we take something that describes the dependencies\n",
    "Each job has a set of *requirement* jobs, that must have completed before this\n",
    "task can take off"
   ]
  },
  {
   "cell_type": "markdown",
   "metadata": {},
   "source": [
    "### Example:\n",
    "\n",
    "```\n",
    "A1 \\ \n",
    "A2 - A4 - A5 \\\n",
    "A3 /    \\ A6 - A7\n",
    "```\n",
    "\n",
    "The job in this case would be something like\n",
    "\n",
    "1. find out that A1 A2 A3 need to be started (find roots in the graph)\n",
    "1. and use this to initialize the list of running tasks\n",
    "1. start all running tasks until at least one completes\n",
    "1. at that point, compute if we can start some new task, and if so add it to the list of running tasks.\n",
    "2. in any case, proceed to step 3, until there is nothing left to run\n",
    "\n",
    "At first sight the basic tool in the asyncio toolset is `asyncio.wait(*, return_when = FIRST_COMPLETED)`\n",
    "\n",
    "\n"
   ]
  },
  {
   "cell_type": "markdown",
   "metadata": {},
   "source": [
    "### a generic coroutine for simple tests"
   ]
  },
  {
   "cell_type": "code",
   "execution_count": 3,
   "metadata": {
    "collapsed": false
   },
   "outputs": [],
   "source": [
    "from tests import sl, slm"
   ]
  },
  {
   "cell_type": "markdown",
   "metadata": {},
   "source": [
    "Used variants for now\n",
    "* `raw()`: simplest possible (middle=False)\n",
    "* `rawm()`: sets `middle=True`\n",
    "* `rawme`: not needed yet\n",
    "* `rawe`: makes no sense "
   ]
  },
  {
   "cell_type": "markdown",
   "metadata": {},
   "source": [
    "### Warning\n",
    "\n",
    "In this code we use the global `asyncio.get_event_loop()` object.\n",
    "\n",
    "When tests fail it can affect the contents of that global (i.e. some stuff remains in the loop as being still pending) and weird things happen; restart kernel is one way to deal with this in this POC environment"
   ]
  },
  {
   "cell_type": "markdown",
   "metadata": {},
   "source": [
    "###  run futures until all done, using `gather`"
   ]
  },
  {
   "cell_type": "code",
   "execution_count": 4,
   "metadata": {
    "collapsed": true
   },
   "outputs": [],
   "source": [
    "def run_all(loop, *coros):\n",
    "    future = asyncio.gather(*coros)\n",
    "    finals = loop.run_until_complete(future)\n",
    "    print(\"final results has {} elts -> {}\".format(len(finals), finals))    "
   ]
  },
  {
   "cell_type": "code",
   "execution_count": 5,
   "metadata": {
    "collapsed": false
   },
   "outputs": [
    {
     "name": "stdout",
     "output_type": "stream",
     "text": [
      "14-48-958 -> sl(1.2)\n",
      "14-48-958 -> sl(0.6)\n",
      "14-49-258 == sl(0.6)\n",
      "14-49-558 == sl(1.2)\n",
      "14-49-559 <- sl(0.6)\n",
      "14-50-161 <- sl(1.2)\n",
      "final results has 2 elts -> [1.2, 0.6]\n"
     ]
    }
   ],
   "source": [
    "# expect 6 lines\n",
    "run_all(asyncio.get_event_loop(), slm(1.2), slm(0.6))"
   ]
  },
  {
   "cell_type": "markdown",
   "metadata": {},
   "source": [
    "### out of curiosity, using another loop instance"
   ]
  },
  {
   "cell_type": "code",
   "execution_count": 6,
   "metadata": {
    "collapsed": false
   },
   "outputs": [],
   "source": [
    "#my_loop = asyncio.new_event_loop()\n",
    "#try:\n",
    "#    run_all(my_loop, rawm(1.2), rawm(0.6))\n",
    "#except Exception as e:\n",
    "#    print(\"not working\", e)"
   ]
  },
  {
   "cell_type": "markdown",
   "metadata": {},
   "source": [
    "### similar using `asyncio.wait`"
   ]
  },
  {
   "cell_type": "code",
   "execution_count": 7,
   "metadata": {
    "collapsed": true
   },
   "outputs": [],
   "source": [
    "def run_all_wait(loop, *coros):\n",
    "    futures = [ asyncio.ensure_future(c) for c in coros ]\n",
    "    done, pending = loop.run_until_complete(asyncio.wait(futures))\n",
    "    for d in done: print(\"done:\", d)\n",
    "    for p in pending: print(\"pending:\", p)"
   ]
  },
  {
   "cell_type": "code",
   "execution_count": 8,
   "metadata": {
    "collapsed": false
   },
   "outputs": [
    {
     "name": "stdout",
     "output_type": "stream",
     "text": [
      "14-50-178 -> sl(0.4)\n",
      "14-50-178 -> sl(0.7)\n",
      "14-50-380 == sl(0.4)\n",
      "14-50-532 == sl(0.7)\n",
      "14-50-584 <- sl(0.4)\n",
      "14-50-883 <- sl(0.7)\n",
      "done: <Task finished coro=<_sl() done, defined at /Users/parmentelat/git/apssh/engine/tests.py:19> result=0.4>\n",
      "done: <Task finished coro=<_sl() done, defined at /Users/parmentelat/git/apssh/engine/tests.py:19> result=0.7>\n"
     ]
    }
   ],
   "source": [
    "# expect 6 lines \n",
    "run_all_wait(asyncio.get_event_loop(), slm(0.4), slm(0.7))"
   ]
  },
  {
   "cell_type": "markdown",
   "metadata": {},
   "source": [
    "### iteratively, manually adding stuff one at at a time"
   ]
  },
  {
   "cell_type": "code",
   "execution_count": 9,
   "metadata": {
    "collapsed": false
   },
   "outputs": [],
   "source": [
    "def future_repr(future):\n",
    "    return '<%s result=%s state=%s>' % (future.__class__.__name__, future._result, future._state)\n",
    "\n",
    "def show_done_pending(done, pending, msg):\n",
    "    for d in done: print(\"D\", msg, type(d), future_repr(d))\n",
    "    for p in pending: print(\"P\", msg, type(p), future_repr(p))\n",
    "\n",
    "def run_two_then_last(loop, c1, c2, c3):\n",
    "    futures = [ asyncio.ensure_future(c) for c in (c1, c2) ]\n",
    "    print(\"starting t1 & t2 until one finishes\")\n",
    "    done, pending = loop.run_until_complete(asyncio.wait(futures, return_when=asyncio.FIRST_COMPLETED))\n",
    "    show_done_pending(done, pending, \"1:\")\n",
    "    print(\"adding t3 and finishing one more\")\n",
    "    f3 = asyncio.ensure_future(c3)\n",
    "    pending.add(f3)\n",
    "    done, pending = loop.run_until_complete(asyncio.wait(pending, return_when=asyncio.FIRST_COMPLETED))\n",
    "    show_done_pending(done, pending, \"2:\")\n",
    "    print(\"finishing last\")\n",
    "    done, pending = loop.run_until_complete(asyncio.wait(pending, return_when=asyncio.FIRST_COMPLETED))\n",
    "    show_done_pending(done, pending, \"3:\")\n",
    "    "
   ]
  },
  {
   "cell_type": "code",
   "execution_count": 10,
   "metadata": {
    "collapsed": false
   },
   "outputs": [
    {
     "name": "stdout",
     "output_type": "stream",
     "text": [
      "starting t1 & t2 until one finishes\n",
      "14-50-907 -> sl(1)\n",
      "14-50-907 -> sl(0.5)\n",
      "14-51-412 <- sl(0.5)\n",
      "D 1: <class 'asyncio.tasks.Task'> <Task result=0.5 state=FINISHED>\n",
      "P 1: <class 'asyncio.tasks.Task'> <Task result=None state=PENDING>\n",
      "adding t3 and finishing one more\n",
      "14-51-412 -> sl(0.7)\n",
      "14-51-909 <- sl(1)\n",
      "D 2: <class 'asyncio.tasks.Task'> <Task result=1 state=FINISHED>\n",
      "P 2: <class 'asyncio.tasks.Task'> <Task result=None state=PENDING>\n",
      "finishing last\n",
      "14-52-116 <- sl(0.7)\n",
      "D 3: <class 'asyncio.tasks.Task'> <Task result=0.7 state=FINISHED>\n"
     ]
    }
   ],
   "source": [
    "# expect 3 lines, then 2, then 1\n",
    "run_two_then_last(asyncio.get_event_loop(), sl(1), sl(0.5), sl(0.7))"
   ]
  },
  {
   "cell_type": "markdown",
   "metadata": {},
   "source": [
    "# Obsolete section"
   ]
  },
  {
   "cell_type": "markdown",
   "metadata": {},
   "source": [
    "That's not the way it ended up at all. We do not subclass `Task` because creating a `Task` element means adding it for scheduling, and our needs are to describe dependencies **before** anything is started, of course."
   ]
  },
  {
   "cell_type": "markdown",
   "metadata": {},
   "source": [
    "### Subclassing Future"
   ]
  },
  {
   "cell_type": "markdown",
   "metadata": {},
   "source": [
    "~~So far so good, but it'd probably be a good idea to be able to use our own subclass of `Task` so that we can easily model the interactions / dependencies between jobs. Using a task factory seems to be the angle here.~~"
   ]
  },
  {
   "cell_type": "code",
   "execution_count": 11,
   "metadata": {
    "collapsed": false
   },
   "outputs": [],
   "source": [
    "class Job(asyncio.Task):\n",
    "    def __init__(self, coro, *args, **kwds):\n",
    "        print(\"Job __init__, coro=\", coro)\n",
    "        asyncio.Task.__init__(self, coro, *args, **kwds)"
   ]
  },
  {
   "cell_type": "code",
   "execution_count": 12,
   "metadata": {
    "collapsed": true
   },
   "outputs": [],
   "source": [
    "# use a regular loop object and define its internal \n",
    "# factory so that it uses Job objects instead of Task\n",
    "def use_jobs(loop):\n",
    "    def factory(loop, coro):\n",
    "        return Job(coro, loop=loop)\n",
    "    loop.set_task_factory(factory)\n",
    "    \n",
    "### let's try to avoid this     \n",
    "#use_jobs(global_loop)\n",
    "#run_two_then_last(global_loop, raw(1), raw(0.5), raw(0.7))"
   ]
  },
  {
   "cell_type": "markdown",
   "metadata": {},
   "source": [
    "### Using our own loop instance"
   ]
  },
  {
   "cell_type": "markdown",
   "metadata": {},
   "source": [
    "~~Fine; here again though, using `asyncio.new_event_loop()` seems to break it all.\n",
    "This happens whether I use `use_jobs` or not, so it's much deeper than subclassing...~~\n",
    "\n",
    "~~We'll write our code with a loop in argument but will for now primarily mess with the global instance for now. - this is not crucial, just a little odd to have to mess with a global object.~~"
   ]
  },
  {
   "cell_type": "code",
   "execution_count": 13,
   "metadata": {
    "collapsed": false
   },
   "outputs": [],
   "source": [
    "#use_jobs(my_loop)\n",
    "#run_two_then_last(my_loop, raw(1), raw(0.5), raw(0.7))"
   ]
  }
 ],
 "metadata": {
  "kernelspec": {
   "display_name": "Python 3",
   "language": "python",
   "name": "python3"
  },
  "language_info": {
   "codemirror_mode": {
    "name": "ipython",
    "version": 3
   },
   "file_extension": ".py",
   "mimetype": "text/x-python",
   "name": "python",
   "nbconvert_exporter": "python",
   "pygments_lexer": "ipython3",
   "version": "3.5.1"
  }
 },
 "nbformat": 4,
 "nbformat_minor": 1
}
